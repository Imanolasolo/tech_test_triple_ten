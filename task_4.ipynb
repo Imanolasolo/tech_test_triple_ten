{
 "cells": [
  {
   "cell_type": "markdown",
   "metadata": {},
   "source": [
    "To find the variance of the random variable \\( Z = 2X - 3Y \\), we will use the properties of variance and covariance.\n",
    "\n",
    "Given:\n",
    "- $E(X)=0.5, Var(X) = 2$\n",
    "- $E(Y)=7, Var(Y) = 3.5$\n",
    "- $cov(X,Y)=−0.8$\n",
    "\n",
    "First, calculate the variance of Z:\n",
    "\n",
    "$Var(Z)=Var(2X−3Y)$\n",
    "\n",
    "Using the properties of variance:\n",
    "\n",
    "$Var(aX+bY)=a^2Var(X)+b^2Var(Y)+2ab⋅cov(X,Y)$\n",
    "\n",
    "Substitute\n",
    "\n",
    "$𝑎 = 2,𝑏 = −3, Var(X)=2, Var(Y)=3.5,$ and $cov(X,Y)=−0.8:$\n",
    "\n",
    "$Var(Z)=(2)^2⋅Var(X)+(−3)^2 ⋅Var(Y)+2⋅2⋅(−3)⋅cov(X,Y)$\n",
    "\n",
    "$Var(Z)=4⋅2+9⋅3.5−12⋅(−0.8)$\n",
    "\n",
    "$Var(Z)=8+31.5+9.6$\n",
    "\n",
    "$Var(Z)=49.1$\n",
    "\n",
    "Therefore, the variance of the random variable \n",
    "\n",
    "$Z=2X−3Y$ is \n",
    "49.1.\n",
    "\n"
   ]
  },
  {
   "cell_type": "code",
   "execution_count": 11,
   "metadata": {},
   "outputs": [
    {
     "name": "stdout",
     "output_type": "stream",
     "text": [
      "Variance of Z = 49.1\n"
     ]
    }
   ],
   "source": [
    "import numpy as np\n",
    "\n",
    "# Given expectations and variances\n",
    "E_X = 0.5\n",
    "Var_X = 2\n",
    "\n",
    "E_Y = 7\n",
    "Var_Y = 3.5\n",
    "\n",
    "# Given covariance\n",
    "cov_XY = -0.8\n",
    "\n",
    "# Coefficients for Z = 2X - 3Y\n",
    "a = 2\n",
    "b = -3\n",
    "\n",
    "# Calculate variance of Z = 2X - 3Y\n",
    "Var_Z = (a**2 * Var_X) + (b**2 * Var_Y) + 2 * a * b * cov_XY\n",
    "\n",
    "print(f\"Variance of Z = {Var_Z}\")\n"
   ]
  }
 ],
 "metadata": {
  "kernelspec": {
   "display_name": "Python 3",
   "language": "python",
   "name": "python3"
  },
  "language_info": {
   "codemirror_mode": {
    "name": "ipython",
    "version": 3
   },
   "file_extension": ".py",
   "mimetype": "text/x-python",
   "name": "python",
   "nbconvert_exporter": "python",
   "pygments_lexer": "ipython3",
   "version": "3.12.3"
  }
 },
 "nbformat": 4,
 "nbformat_minor": 2
}
