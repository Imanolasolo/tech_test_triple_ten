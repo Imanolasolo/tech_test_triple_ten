{
 "cells": [
  {
   "cell_type": "markdown",
   "metadata": {},
   "source": [
    "Imagine you're organizing a library. 📚"
   ]
  },
  {
   "cell_type": "markdown",
   "metadata": {},
   "source": [
    "- **Series** is like one shelf in that library. It holds books that are all related, like a series of novels by the same author."
   ]
  },
  {
   "cell_type": "markdown",
   "metadata": {},
   "source": [
    "- **DataFrame** is more like the entire library itself. It contains many shelves (Series) where each shelf can hold different types of books on different subjects."
   ]
  },
  {
   "cell_type": "markdown",
   "metadata": {},
   "source": [
    "So, a *Series* is a single column of data, like a list of book titles, while a *DataFrame* is a whole collection of these columns (Series), where each column might be about different things, like titles, authors, genres, and so on."
   ]
  },
  {
   "cell_type": "markdown",
   "metadata": {},
   "source": [
    "I spent around 3 minutes in coming up to this analogy and 10 minutes to develop the jupyter notebook."
   ]
  }
 ],
 "metadata": {
  "language_info": {
   "name": "python"
  }
 },
 "nbformat": 4,
 "nbformat_minor": 2
}
